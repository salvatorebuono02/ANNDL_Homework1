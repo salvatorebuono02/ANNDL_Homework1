{
  "nbformat": 4,
  "nbformat_minor": 0,
  "metadata": {
    "colab": {
      "provenance": [],
      "authorship_tag": "ABX9TyP+GbG3g07n0H1cLutMyoT1",
      "include_colab_link": true
    },
    "kernelspec": {
      "name": "python3",
      "display_name": "Python 3"
    },
    "language_info": {
      "name": "python"
    }
  },
  "cells": [
    {
      "cell_type": "markdown",
      "metadata": {
        "id": "view-in-github",
        "colab_type": "text"
      },
      "source": [
        "<a href=\"https://colab.research.google.com/github/salvatorebuono02/ANNDL_Homework1/blob/main/Sentinel_analysis.ipynb\" target=\"_parent\"><img src=\"https://colab.research.google.com/assets/colab-badge.svg\" alt=\"Open In Colab\"/></a>"
      ]
    },
    {
      "cell_type": "markdown",
      "source": [
        "Esempio a : https://carpentries-incubator.github.io/geospatial-python/05-access-data.html"
      ],
      "metadata": {
        "id": "DAU0naOTUzYs"
      }
    },
    {
      "cell_type": "code",
      "execution_count": 1,
      "metadata": {
        "id": "gdNMmWyiMw4b"
      },
      "outputs": [],
      "source": [
        "api_url = \"https://earth-search.aws.element84.com/v1\""
      ]
    },
    {
      "cell_type": "code",
      "source": [
        "!pip install pystac_client"
      ],
      "metadata": {
        "colab": {
          "base_uri": "https://localhost:8080/"
        },
        "id": "ccgHmB6KNMkO",
        "outputId": "6e064b54-65db-48a4-c528-433a2594bdcc"
      },
      "execution_count": 2,
      "outputs": [
        {
          "output_type": "stream",
          "name": "stdout",
          "text": [
            "Collecting pystac_client\n",
            "  Downloading pystac_client-0.7.5-py3-none-any.whl (33 kB)\n",
            "Requirement already satisfied: requests>=2.28.2 in /usr/local/lib/python3.10/dist-packages (from pystac_client) (2.31.0)\n",
            "Collecting pystac[validation]>=1.8.2 (from pystac_client)\n",
            "  Downloading pystac-1.9.0-py3-none-any.whl (181 kB)\n",
            "\u001b[2K     \u001b[90m━━━━━━━━━━━━━━━━━━━━━━━━━━━━━━━━━━━━━━━━\u001b[0m \u001b[32m181.6/181.6 kB\u001b[0m \u001b[31m2.3 MB/s\u001b[0m eta \u001b[36m0:00:00\u001b[0m\n",
            "\u001b[?25hRequirement already satisfied: python-dateutil>=2.8.2 in /usr/local/lib/python3.10/dist-packages (from pystac_client) (2.8.2)\n",
            "Requirement already satisfied: jsonschema~=4.18 in /usr/local/lib/python3.10/dist-packages (from pystac[validation]>=1.8.2->pystac_client) (4.19.2)\n",
            "Requirement already satisfied: six>=1.5 in /usr/local/lib/python3.10/dist-packages (from python-dateutil>=2.8.2->pystac_client) (1.16.0)\n",
            "Requirement already satisfied: charset-normalizer<4,>=2 in /usr/local/lib/python3.10/dist-packages (from requests>=2.28.2->pystac_client) (3.3.2)\n",
            "Requirement already satisfied: idna<4,>=2.5 in /usr/local/lib/python3.10/dist-packages (from requests>=2.28.2->pystac_client) (3.6)\n",
            "Requirement already satisfied: urllib3<3,>=1.21.1 in /usr/local/lib/python3.10/dist-packages (from requests>=2.28.2->pystac_client) (2.0.7)\n",
            "Requirement already satisfied: certifi>=2017.4.17 in /usr/local/lib/python3.10/dist-packages (from requests>=2.28.2->pystac_client) (2023.11.17)\n",
            "Requirement already satisfied: attrs>=22.2.0 in /usr/local/lib/python3.10/dist-packages (from jsonschema~=4.18->pystac[validation]>=1.8.2->pystac_client) (23.1.0)\n",
            "Requirement already satisfied: jsonschema-specifications>=2023.03.6 in /usr/local/lib/python3.10/dist-packages (from jsonschema~=4.18->pystac[validation]>=1.8.2->pystac_client) (2023.11.2)\n",
            "Requirement already satisfied: referencing>=0.28.4 in /usr/local/lib/python3.10/dist-packages (from jsonschema~=4.18->pystac[validation]>=1.8.2->pystac_client) (0.31.1)\n",
            "Requirement already satisfied: rpds-py>=0.7.1 in /usr/local/lib/python3.10/dist-packages (from jsonschema~=4.18->pystac[validation]>=1.8.2->pystac_client) (0.13.2)\n",
            "Installing collected packages: pystac, pystac_client\n",
            "Successfully installed pystac-1.9.0 pystac_client-0.7.5\n"
          ]
        }
      ]
    },
    {
      "cell_type": "code",
      "source": [
        "from pystac_client import Client\n",
        "\n",
        "client = Client.open(api_url)"
      ],
      "metadata": {
        "id": "jKvMVPFxNG50"
      },
      "execution_count": 3,
      "outputs": []
    },
    {
      "cell_type": "code",
      "source": [
        "collection = \"sentinel-2-l2a\"  # Sentinel-2, Level 2A, Cloud Optimized GeoTiffs (COGs)"
      ],
      "metadata": {
        "id": "BKypwwX1NTG7"
      },
      "execution_count": 4,
      "outputs": []
    },
    {
      "cell_type": "code",
      "source": [
        "from shapely.geometry import Point\n",
        "point = Point(4.89, 52.37)  # AMS coordinates"
      ],
      "metadata": {
        "id": "A5I0agi-NWwp"
      },
      "execution_count": 5,
      "outputs": []
    },
    {
      "cell_type": "code",
      "source": [
        "search = client.search(\n",
        "    collections=[collection],\n",
        "    intersects=point,\n",
        "    max_items=10,\n",
        ")"
      ],
      "metadata": {
        "id": "aDNoqYV7NcXS"
      },
      "execution_count": 6,
      "outputs": []
    },
    {
      "cell_type": "code",
      "source": [
        "print(search.matched())"
      ],
      "metadata": {
        "colab": {
          "base_uri": "https://localhost:8080/"
        },
        "id": "DbjT83p1Nj_x",
        "outputId": "e4d7123e-0923-4a41-d421-d1b2e2644148"
      },
      "execution_count": 7,
      "outputs": [
        {
          "output_type": "stream",
          "name": "stdout",
          "text": [
            "1113\n"
          ]
        }
      ]
    },
    {
      "cell_type": "code",
      "source": [
        "items = search.item_collection()"
      ],
      "metadata": {
        "id": "STWVJPmENkYJ"
      },
      "execution_count": 8,
      "outputs": []
    },
    {
      "cell_type": "code",
      "source": [
        "print(len(items))"
      ],
      "metadata": {
        "colab": {
          "base_uri": "https://localhost:8080/"
        },
        "id": "XdQt_To-NobB",
        "outputId": "784af63a-afed-4e88-c0ec-1155f53ba127"
      },
      "execution_count": 9,
      "outputs": [
        {
          "output_type": "stream",
          "name": "stdout",
          "text": [
            "10\n"
          ]
        }
      ]
    },
    {
      "cell_type": "code",
      "source": [
        "for item in items:\n",
        "    print(item)"
      ],
      "metadata": {
        "colab": {
          "base_uri": "https://localhost:8080/"
        },
        "id": "3Zzn2D-uNsCn",
        "outputId": "17627ee5-18ff-414f-9200-be19787c2d81"
      },
      "execution_count": 10,
      "outputs": [
        {
          "output_type": "stream",
          "name": "stdout",
          "text": [
            "<Item id=S2B_31UFU_20231203_0_L2A>\n",
            "<Item id=S2A_31UFU_20231201_0_L2A>\n",
            "<Item id=S2A_31UFU_20231128_0_L2A>\n",
            "<Item id=S2B_31UFU_20231126_0_L2A>\n",
            "<Item id=S2A_31UFU_20231121_1_L2A>\n",
            "<Item id=S2A_31UFU_20231118_0_L2A>\n",
            "<Item id=S2B_31UFU_20231116_0_L2A>\n",
            "<Item id=S2B_31UFU_20231113_0_L2A>\n",
            "<Item id=S2A_31UFU_20231111_0_L2A>\n",
            "<Item id=S2A_31UFU_20231108_0_L2A>\n"
          ]
        }
      ]
    },
    {
      "cell_type": "code",
      "source": [
        "item = items[0]\n",
        "print(item.datetime)\n",
        "print(item.geometry)\n",
        "print(item.properties)"
      ],
      "metadata": {
        "colab": {
          "base_uri": "https://localhost:8080/"
        },
        "id": "P-Le7oUUOFeV",
        "outputId": "9d866090-3177-41f6-d3db-71452c87f31e"
      },
      "execution_count": 11,
      "outputs": [
        {
          "output_type": "stream",
          "name": "stdout",
          "text": [
            "2023-12-03 10:46:22.723000+00:00\n",
            "{'type': 'Polygon', 'coordinates': [[[5.251257617006848, 53.22835502862323], [4.827148003087264, 52.248415015868375], [6.071664488869862, 52.22257539160585], [6.141754296879459, 53.20819279121764], [5.251257617006848, 53.22835502862323]]]}\n",
            "{'created': '2023-12-03T13:47:46.603Z', 'platform': 'sentinel-2b', 'constellation': 'sentinel-2', 'instruments': ['msi'], 'eo:cloud_cover': 85.706222, 'proj:epsg': 32631, 'mgrs:utm_zone': 31, 'mgrs:latitude_band': 'U', 'mgrs:grid_square': 'FU', 'grid:code': 'MGRS-31UFU', 'view:sun_azimuth': 169.928697820935, 'view:sun_elevation': 14.613628588045302, 's2:degraded_msi_data_percentage': 0.0066, 's2:nodata_pixel_percentage': 34.097651, 's2:saturated_defective_pixel_percentage': 0, 's2:dark_features_percentage': 0, 's2:cloud_shadow_percentage': 1.815453, 's2:vegetation_percentage': 1.839623, 's2:not_vegetated_percentage': 5.97522, 's2:water_percentage': 3.967682, 's2:unclassified_percentage': 0.64767, 's2:medium_proba_clouds_percentage': 28.447795, 's2:high_proba_clouds_percentage': 35.868683, 's2:thin_cirrus_percentage': 21.389744, 's2:snow_ice_percentage': 0.04813, 's2:product_type': 'S2MSI2A', 's2:processing_baseline': '05.09', 's2:product_uri': 'S2B_MSIL2A_20231203T104319_N0509_R008_T31UFU_20231203T120350.SAFE', 's2:generation_time': '2023-12-03T12:03:50.000000Z', 's2:datatake_id': 'GS2B_20231203T104319_035212_N05.09', 's2:datatake_type': 'INS-NOBS', 's2:datastrip_id': 'S2B_OPER_MSI_L2A_DS_2BPS_20231203T120350_S20231203T104321_N05.09', 's2:granule_id': 'S2B_OPER_MSI_L2A_TL_2BPS_20231203T120350_A035212_T31UFU_N05.09', 's2:reflectance_conversion_factor': 1.02803537705105, 'datetime': '2023-12-03T10:46:22.723000Z', 's2:sequence': '0', 'earthsearch:s3_path': 's3://sentinel-cogs/sentinel-s2-l2a-cogs/31/U/FU/2023/12/S2B_31UFU_20231203_0_L2A', 'earthsearch:payload_id': 'roda-sentinel2/workflow-sentinel2-to-stac/93fde0f2bd572ac52b20ad31d140373d', 'earthsearch:boa_offset_applied': True, 'processing:software': {'sentinel2-to-stac': '0.1.1'}, 'updated': '2023-12-03T13:47:46.603Z'}\n"
          ]
        }
      ]
    },
    {
      "cell_type": "code",
      "source": [
        "assets = items[0].assets  # first item's asset dictionary\n",
        "print(assets.keys())"
      ],
      "metadata": {
        "colab": {
          "base_uri": "https://localhost:8080/"
        },
        "id": "W7sMCpBzOIzM",
        "outputId": "b22d0b3d-342f-4776-90d4-478806693885"
      },
      "execution_count": 12,
      "outputs": [
        {
          "output_type": "stream",
          "name": "stdout",
          "text": [
            "dict_keys(['aot', 'blue', 'coastal', 'granule_metadata', 'green', 'nir', 'nir08', 'nir09', 'red', 'rededge1', 'rededge2', 'rededge3', 'scl', 'swir16', 'swir22', 'thumbnail', 'tileinfo_metadata', 'visual', 'wvp', 'aot-jp2', 'blue-jp2', 'coastal-jp2', 'green-jp2', 'nir-jp2', 'nir08-jp2', 'nir09-jp2', 'red-jp2', 'rededge1-jp2', 'rededge2-jp2', 'rededge3-jp2', 'scl-jp2', 'swir16-jp2', 'swir22-jp2', 'visual-jp2', 'wvp-jp2'])\n"
          ]
        }
      ]
    },
    {
      "cell_type": "code",
      "source": [
        "for key, asset in assets.items():\n",
        "    print(f\"{key}: {asset.title}\")"
      ],
      "metadata": {
        "colab": {
          "base_uri": "https://localhost:8080/"
        },
        "id": "wPGpyIuQPs3Z",
        "outputId": "5d59459f-79f0-485b-b57b-df4a60f3c038"
      },
      "execution_count": 13,
      "outputs": [
        {
          "output_type": "stream",
          "name": "stdout",
          "text": [
            "aot: Aerosol optical thickness (AOT)\n",
            "blue: Blue (band 2) - 10m\n",
            "coastal: Coastal aerosol (band 1) - 60m\n",
            "granule_metadata: None\n",
            "green: Green (band 3) - 10m\n",
            "nir: NIR 1 (band 8) - 10m\n",
            "nir08: NIR 2 (band 8A) - 20m\n",
            "nir09: NIR 3 (band 9) - 60m\n",
            "red: Red (band 4) - 10m\n",
            "rededge1: Red edge 1 (band 5) - 20m\n",
            "rededge2: Red edge 2 (band 6) - 20m\n",
            "rededge3: Red edge 3 (band 7) - 20m\n",
            "scl: Scene classification map (SCL)\n",
            "swir16: SWIR 1 (band 11) - 20m\n",
            "swir22: SWIR 2 (band 12) - 20m\n",
            "thumbnail: Thumbnail image\n",
            "tileinfo_metadata: None\n",
            "visual: True color image\n",
            "wvp: Water vapour (WVP)\n",
            "aot-jp2: Aerosol optical thickness (AOT)\n",
            "blue-jp2: Blue (band 2) - 10m\n",
            "coastal-jp2: Coastal aerosol (band 1) - 60m\n",
            "green-jp2: Green (band 3) - 10m\n",
            "nir-jp2: NIR 1 (band 8) - 10m\n",
            "nir08-jp2: NIR 2 (band 8A) - 20m\n",
            "nir09-jp2: NIR 3 (band 9) - 60m\n",
            "red-jp2: Red (band 4) - 10m\n",
            "rededge1-jp2: Red edge 1 (band 5) - 20m\n",
            "rededge2-jp2: Red edge 2 (band 6) - 20m\n",
            "rededge3-jp2: Red edge 3 (band 7) - 20m\n",
            "scl-jp2: Scene classification map (SCL)\n",
            "swir16-jp2: SWIR 1 (band 11) - 20m\n",
            "swir22-jp2: SWIR 2 (band 12) - 20m\n",
            "visual-jp2: True color image\n",
            "wvp-jp2: Water vapour (WVP)\n"
          ]
        }
      ]
    },
    {
      "cell_type": "code",
      "source": [
        "assets['scl']"
      ],
      "metadata": {
        "colab": {
          "base_uri": "https://localhost:8080/",
          "height": 334
        },
        "id": "w6jdaEdZP6ym",
        "outputId": "8f734149-b48f-49d6-d1bc-1b6ee34006ff"
      },
      "execution_count": 17,
      "outputs": [
        {
          "output_type": "execute_result",
          "data": {
            "text/plain": [
              "<Asset href=https://sentinel-cogs.s3.us-west-2.amazonaws.com/sentinel-s2-l2a-cogs/31/U/FU/2023/12/S2B_31UFU_20231203_0_L2A/SCL.tif>"
            ],
            "text/html": [
              "\n",
              "\n",
              "<style>\n",
              ".pystac-summary {\n",
              "    cursor: pointer;\n",
              "    display:list-item;\n",
              "}\n",
              ".pystac-key {\n",
              "    color: rgb(0, 128, 0);\n",
              "    font-weight: 700;\n",
              "}\n",
              ".pystac-key-value {\n",
              "    display: inline-block;\n",
              "    margin: 0px 0.5em 0px 0px;\n",
              "}\n",
              "</style>\n",
              "<div class=\"jp-RenderedJSON jp-mod-trusted jp-OutputArea-output\">\n",
              "    <div class=\"container\" style=\"line-height: normal;\">\n",
              "        <ul style=\"padding: 0px; margin: 0px; list-style: none; display: block;\">\n",
              "            \n",
              "                \n",
              "                    \n",
              "        <li style=\"overflow-wrap: break-word; padding-left: 2.125em; text-indent: -0.5em;\">\n",
              "            <span class=\"pystac-key pystac-key-value\">href</span>\n",
              "            <span style=\"color: rgb(186, 33, 33);\">\"https://sentinel-cogs.s3.us-west-2.amazonaws.com/sentinel-s2-l2a-cogs/31/U/FU/2023/12/S2B_31UFU_20231203_0_L2A/SCL.tif\"</span>\n",
              "        </li>\n",
              "    \n",
              "                \n",
              "            \n",
              "                \n",
              "                    \n",
              "        <li style=\"overflow-wrap: break-word; padding-left: 2.125em; text-indent: -0.5em;\">\n",
              "            <span class=\"pystac-key pystac-key-value\">type</span>\n",
              "            <span style=\"color: rgb(186, 33, 33);\">\"image/tiff; application=geotiff; profile=cloud-optimized\"</span>\n",
              "        </li>\n",
              "    \n",
              "                \n",
              "            \n",
              "                \n",
              "                    \n",
              "        <li style=\"overflow-wrap: break-word; padding-left: 2.125em; text-indent: -0.5em;\">\n",
              "            <span class=\"pystac-key pystac-key-value\">title</span>\n",
              "            <span style=\"color: rgb(186, 33, 33);\">\"Scene classification map (SCL)\"</span>\n",
              "        </li>\n",
              "    \n",
              "                \n",
              "            \n",
              "                \n",
              "                    <li><details>\n",
              "        <summary class=\"pystac-summary\">\n",
              "            <span class=\"pystac-key\">proj:shape</span>\n",
              "            <span style=\"padding-left: 0.5em; color: rgb(64, 128, 128); font-style: italic;\">[] 2 items</span>\n",
              "        </summary>\n",
              "        \n",
              "            <ul style=\"margin: 0px; padding: 0px 0px 0px 1.75em; list-style: none; display: block;\">\n",
              "        \n",
              "            \n",
              "                \n",
              "        <li style=\"overflow-wrap: break-word; padding-left: 2.125em; text-indent: -0.5em;\">\n",
              "            <span class=\"pystac-key pystac-key-value\">0</span>\n",
              "            <span style=\"color: rgb(186, 33, 33);\">5490</span>\n",
              "        </li>\n",
              "    \n",
              "            \n",
              "        \n",
              "    </ul>\n",
              "        \n",
              "            <ul style=\"margin: 0px; padding: 0px 0px 0px 1.75em; list-style: none; display: block;\">\n",
              "        \n",
              "            \n",
              "                \n",
              "        <li style=\"overflow-wrap: break-word; padding-left: 2.125em; text-indent: -0.5em;\">\n",
              "            <span class=\"pystac-key pystac-key-value\">1</span>\n",
              "            <span style=\"color: rgb(186, 33, 33);\">5490</span>\n",
              "        </li>\n",
              "    \n",
              "            \n",
              "        \n",
              "    </ul>\n",
              "        \n",
              "    </details></li>\n",
              "                \n",
              "            \n",
              "                \n",
              "                    <li><details>\n",
              "        <summary class=\"pystac-summary\">\n",
              "            <span class=\"pystac-key\">proj:transform</span>\n",
              "            <span style=\"padding-left: 0.5em; color: rgb(64, 128, 128); font-style: italic;\">[] 6 items</span>\n",
              "        </summary>\n",
              "        \n",
              "            <ul style=\"margin: 0px; padding: 0px 0px 0px 1.75em; list-style: none; display: block;\">\n",
              "        \n",
              "            \n",
              "                \n",
              "        <li style=\"overflow-wrap: break-word; padding-left: 2.125em; text-indent: -0.5em;\">\n",
              "            <span class=\"pystac-key pystac-key-value\">0</span>\n",
              "            <span style=\"color: rgb(186, 33, 33);\">20</span>\n",
              "        </li>\n",
              "    \n",
              "            \n",
              "        \n",
              "    </ul>\n",
              "        \n",
              "            <ul style=\"margin: 0px; padding: 0px 0px 0px 1.75em; list-style: none; display: block;\">\n",
              "        \n",
              "            \n",
              "                \n",
              "        <li style=\"overflow-wrap: break-word; padding-left: 2.125em; text-indent: -0.5em;\">\n",
              "            <span class=\"pystac-key pystac-key-value\">1</span>\n",
              "            <span style=\"color: rgb(186, 33, 33);\">0</span>\n",
              "        </li>\n",
              "    \n",
              "            \n",
              "        \n",
              "    </ul>\n",
              "        \n",
              "            <ul style=\"margin: 0px; padding: 0px 0px 0px 1.75em; list-style: none; display: block;\">\n",
              "        \n",
              "            \n",
              "                \n",
              "        <li style=\"overflow-wrap: break-word; padding-left: 2.125em; text-indent: -0.5em;\">\n",
              "            <span class=\"pystac-key pystac-key-value\">2</span>\n",
              "            <span style=\"color: rgb(186, 33, 33);\">600000</span>\n",
              "        </li>\n",
              "    \n",
              "            \n",
              "        \n",
              "    </ul>\n",
              "        \n",
              "            <ul style=\"margin: 0px; padding: 0px 0px 0px 1.75em; list-style: none; display: block;\">\n",
              "        \n",
              "            \n",
              "                \n",
              "        <li style=\"overflow-wrap: break-word; padding-left: 2.125em; text-indent: -0.5em;\">\n",
              "            <span class=\"pystac-key pystac-key-value\">3</span>\n",
              "            <span style=\"color: rgb(186, 33, 33);\">0</span>\n",
              "        </li>\n",
              "    \n",
              "            \n",
              "        \n",
              "    </ul>\n",
              "        \n",
              "            <ul style=\"margin: 0px; padding: 0px 0px 0px 1.75em; list-style: none; display: block;\">\n",
              "        \n",
              "            \n",
              "                \n",
              "        <li style=\"overflow-wrap: break-word; padding-left: 2.125em; text-indent: -0.5em;\">\n",
              "            <span class=\"pystac-key pystac-key-value\">4</span>\n",
              "            <span style=\"color: rgb(186, 33, 33);\">-20</span>\n",
              "        </li>\n",
              "    \n",
              "            \n",
              "        \n",
              "    </ul>\n",
              "        \n",
              "            <ul style=\"margin: 0px; padding: 0px 0px 0px 1.75em; list-style: none; display: block;\">\n",
              "        \n",
              "            \n",
              "                \n",
              "        <li style=\"overflow-wrap: break-word; padding-left: 2.125em; text-indent: -0.5em;\">\n",
              "            <span class=\"pystac-key pystac-key-value\">5</span>\n",
              "            <span style=\"color: rgb(186, 33, 33);\">5900040</span>\n",
              "        </li>\n",
              "    \n",
              "            \n",
              "        \n",
              "    </ul>\n",
              "        \n",
              "    </details></li>\n",
              "                \n",
              "            \n",
              "                \n",
              "                    <li><details>\n",
              "        <summary class=\"pystac-summary\">\n",
              "            <span class=\"pystac-key\">raster:bands</span>\n",
              "            <span style=\"padding-left: 0.5em; color: rgb(64, 128, 128); font-style: italic;\">[] 1 items</span>\n",
              "        </summary>\n",
              "        \n",
              "            <ul style=\"margin: 0px; padding: 0px 0px 0px 1.75em; list-style: none; display: block;\">\n",
              "        \n",
              "            \n",
              "                \n",
              "        <li><details>\n",
              "            <summary class=\"pystac-summary\"><span class=\"pystac-key\">0</span></summary>\n",
              "            <ul style=\"margin: 0px; padding: 0px 0px 0px 1.75em; list-style: none; display: block;\">\n",
              "        \n",
              "            \n",
              "                \n",
              "        <li style=\"overflow-wrap: break-word; padding-left: 2.125em; text-indent: -0.5em;\">\n",
              "            <span class=\"pystac-key pystac-key-value\">nodata</span>\n",
              "            <span style=\"color: rgb(186, 33, 33);\">0</span>\n",
              "        </li>\n",
              "    \n",
              "            \n",
              "        \n",
              "            \n",
              "                \n",
              "        <li style=\"overflow-wrap: break-word; padding-left: 2.125em; text-indent: -0.5em;\">\n",
              "            <span class=\"pystac-key pystac-key-value\">data_type</span>\n",
              "            <span style=\"color: rgb(186, 33, 33);\">\"uint8\"</span>\n",
              "        </li>\n",
              "    \n",
              "            \n",
              "        \n",
              "            \n",
              "                \n",
              "        <li style=\"overflow-wrap: break-word; padding-left: 2.125em; text-indent: -0.5em;\">\n",
              "            <span class=\"pystac-key pystac-key-value\">spatial_resolution</span>\n",
              "            <span style=\"color: rgb(186, 33, 33);\">20</span>\n",
              "        </li>\n",
              "    \n",
              "            \n",
              "        \n",
              "    </ul>\n",
              "        </details></li>\n",
              "    \n",
              "            \n",
              "        \n",
              "    </ul>\n",
              "        \n",
              "    </details></li>\n",
              "                \n",
              "            \n",
              "                \n",
              "                    <li><details>\n",
              "        <summary class=\"pystac-summary\">\n",
              "            <span class=\"pystac-key\">roles</span>\n",
              "            <span style=\"padding-left: 0.5em; color: rgb(64, 128, 128); font-style: italic;\">[] 2 items</span>\n",
              "        </summary>\n",
              "        \n",
              "            <ul style=\"margin: 0px; padding: 0px 0px 0px 1.75em; list-style: none; display: block;\">\n",
              "        \n",
              "            \n",
              "                \n",
              "        <li style=\"overflow-wrap: break-word; padding-left: 2.125em; text-indent: -0.5em;\">\n",
              "            <span class=\"pystac-key pystac-key-value\">0</span>\n",
              "            <span style=\"color: rgb(186, 33, 33);\">\"data\"</span>\n",
              "        </li>\n",
              "    \n",
              "            \n",
              "        \n",
              "    </ul>\n",
              "        \n",
              "            <ul style=\"margin: 0px; padding: 0px 0px 0px 1.75em; list-style: none; display: block;\">\n",
              "        \n",
              "            \n",
              "                \n",
              "        <li style=\"overflow-wrap: break-word; padding-left: 2.125em; text-indent: -0.5em;\">\n",
              "            <span class=\"pystac-key pystac-key-value\">1</span>\n",
              "            <span style=\"color: rgb(186, 33, 33);\">\"reflectance\"</span>\n",
              "        </li>\n",
              "    \n",
              "            \n",
              "        \n",
              "    </ul>\n",
              "        \n",
              "    </details></li>\n",
              "                \n",
              "            \n",
              "        </ul>\n",
              "    </div>\n",
              "</div>"
            ]
          },
          "metadata": {},
          "execution_count": 17
        }
      ]
    },
    {
      "cell_type": "code",
      "source": [
        "print(assets[\"thumbnail\"].href)"
      ],
      "metadata": {
        "colab": {
          "base_uri": "https://localhost:8080/"
        },
        "id": "-wdMbumXT3JG",
        "outputId": "10e2c201-69ed-4e20-a89c-1a82ba718038"
      },
      "execution_count": 18,
      "outputs": [
        {
          "output_type": "stream",
          "name": "stdout",
          "text": [
            "https://sentinel-cogs.s3.us-west-2.amazonaws.com/sentinel-s2-l2a-cogs/31/U/FU/2023/12/S2B_31UFU_20231203_0_L2A/thumbnail.jpg\n"
          ]
        }
      ]
    },
    {
      "cell_type": "code",
      "source": [
        "!pip install rioxarray"
      ],
      "metadata": {
        "colab": {
          "base_uri": "https://localhost:8080/"
        },
        "id": "GgMPagrxUJnf",
        "outputId": "b2472778-7a06-4283-f8b6-5649a852716f"
      },
      "execution_count": 20,
      "outputs": [
        {
          "output_type": "stream",
          "name": "stdout",
          "text": [
            "Collecting rioxarray\n",
            "  Downloading rioxarray-0.15.0-py3-none-any.whl (53 kB)\n",
            "\u001b[2K     \u001b[90m━━━━━━━━━━━━━━━━━━━━━━━━━━━━━━━━━━━━━━━━\u001b[0m \u001b[32m53.7/53.7 kB\u001b[0m \u001b[31m742.0 kB/s\u001b[0m eta \u001b[36m0:00:00\u001b[0m\n",
            "\u001b[?25hRequirement already satisfied: packaging in /usr/local/lib/python3.10/dist-packages (from rioxarray) (23.2)\n",
            "Collecting rasterio>=1.2 (from rioxarray)\n",
            "  Downloading rasterio-1.3.9-cp310-cp310-manylinux2014_x86_64.whl (20.6 MB)\n",
            "\u001b[2K     \u001b[90m━━━━━━━━━━━━━━━━━━━━━━━━━━━━━━━━━━━━━━━━\u001b[0m \u001b[32m20.6/20.6 MB\u001b[0m \u001b[31m50.5 MB/s\u001b[0m eta \u001b[36m0:00:00\u001b[0m\n",
            "\u001b[?25hRequirement already satisfied: xarray>=0.17 in /usr/local/lib/python3.10/dist-packages (from rioxarray) (2023.7.0)\n",
            "Requirement already satisfied: pyproj>=2.2 in /usr/local/lib/python3.10/dist-packages (from rioxarray) (3.6.1)\n",
            "Requirement already satisfied: numpy>=1.21 in /usr/local/lib/python3.10/dist-packages (from rioxarray) (1.23.5)\n",
            "Requirement already satisfied: certifi in /usr/local/lib/python3.10/dist-packages (from pyproj>=2.2->rioxarray) (2023.11.17)\n",
            "Collecting affine (from rasterio>=1.2->rioxarray)\n",
            "  Downloading affine-2.4.0-py3-none-any.whl (15 kB)\n",
            "Requirement already satisfied: attrs in /usr/local/lib/python3.10/dist-packages (from rasterio>=1.2->rioxarray) (23.1.0)\n",
            "Requirement already satisfied: click>=4.0 in /usr/local/lib/python3.10/dist-packages (from rasterio>=1.2->rioxarray) (8.1.7)\n",
            "Requirement already satisfied: cligj>=0.5 in /usr/local/lib/python3.10/dist-packages (from rasterio>=1.2->rioxarray) (0.7.2)\n",
            "Collecting snuggs>=1.4.1 (from rasterio>=1.2->rioxarray)\n",
            "  Downloading snuggs-1.4.7-py3-none-any.whl (5.4 kB)\n",
            "Requirement already satisfied: click-plugins in /usr/local/lib/python3.10/dist-packages (from rasterio>=1.2->rioxarray) (1.1.1)\n",
            "Requirement already satisfied: setuptools in /usr/local/lib/python3.10/dist-packages (from rasterio>=1.2->rioxarray) (67.7.2)\n",
            "Requirement already satisfied: pandas>=1.4 in /usr/local/lib/python3.10/dist-packages (from xarray>=0.17->rioxarray) (1.5.3)\n",
            "Requirement already satisfied: python-dateutil>=2.8.1 in /usr/local/lib/python3.10/dist-packages (from pandas>=1.4->xarray>=0.17->rioxarray) (2.8.2)\n",
            "Requirement already satisfied: pytz>=2020.1 in /usr/local/lib/python3.10/dist-packages (from pandas>=1.4->xarray>=0.17->rioxarray) (2023.3.post1)\n",
            "Requirement already satisfied: pyparsing>=2.1.6 in /usr/local/lib/python3.10/dist-packages (from snuggs>=1.4.1->rasterio>=1.2->rioxarray) (3.1.1)\n",
            "Requirement already satisfied: six>=1.5 in /usr/local/lib/python3.10/dist-packages (from python-dateutil>=2.8.1->pandas>=1.4->xarray>=0.17->rioxarray) (1.16.0)\n",
            "Installing collected packages: snuggs, affine, rasterio, rioxarray\n",
            "Successfully installed affine-2.4.0 rasterio-1.3.9 rioxarray-0.15.0 snuggs-1.4.7\n"
          ]
        }
      ]
    },
    {
      "cell_type": "code",
      "source": [
        "import rioxarray\n",
        "nir_href = assets[\"nir\"].href\n",
        "nir = rioxarray.open_rasterio(nir_href)\n",
        "print(nir)"
      ],
      "metadata": {
        "colab": {
          "base_uri": "https://localhost:8080/"
        },
        "id": "-j_AtifeT3mD",
        "outputId": "5638d1b5-1e59-4843-9b6a-7de309ee71f0"
      },
      "execution_count": 21,
      "outputs": [
        {
          "output_type": "stream",
          "name": "stdout",
          "text": [
            "<xarray.DataArray (band: 1, y: 10980, x: 10980)>\n",
            "[120560400 values with dtype=uint16]\n",
            "Coordinates:\n",
            "  * band         (band) int64 1\n",
            "  * x            (x) float64 6e+05 6e+05 6e+05 ... 7.098e+05 7.098e+05 7.098e+05\n",
            "  * y            (y) float64 5.9e+06 5.9e+06 5.9e+06 ... 5.79e+06 5.79e+06\n",
            "    spatial_ref  int64 0\n",
            "Attributes:\n",
            "    AREA_OR_POINT:       Area\n",
            "    OVR_RESAMPLING_ALG:  AVERAGE\n",
            "    _FillValue:          0\n",
            "    scale_factor:        1.0\n",
            "    add_offset:          0.0\n"
          ]
        }
      ]
    },
    {
      "cell_type": "code",
      "source": [
        "# save whole image to disk\n",
        "nir.rio.to_raster(\"nir.tif\")"
      ],
      "metadata": {
        "id": "BMmcNN9XUHob"
      },
      "execution_count": 22,
      "outputs": []
    },
    {
      "cell_type": "markdown",
      "source": [
        "we specify that we want to download the first (and only) band in the tif file, and a slice of the width and height dimensions."
      ],
      "metadata": {
        "id": "ZwgXxWxTUq4I"
      }
    },
    {
      "cell_type": "code",
      "source": [
        "# save portion of an image to disk\n",
        "nir[0,1500:2200,1500:2200].rio.to_raster(\"nir_subset.tif\")"
      ],
      "metadata": {
        "id": "IiJu19i_UahO"
      },
      "execution_count": 23,
      "outputs": []
    }
  ]
}